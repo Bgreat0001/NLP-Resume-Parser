{
 "cells": [
  {
   "cell_type": "code",
   "execution_count": 120,
   "id": "c272bf50",
   "metadata": {},
   "outputs": [],
   "source": [
    "import numpy as np\n",
    "import pandas as pd\n",
    "import re"
   ]
  },
  {
   "cell_type": "code",
   "execution_count": 121,
   "id": "d917b0c8",
   "metadata": {},
   "outputs": [
    {
     "data": {
      "text/html": [
       "<div>\n",
       "<style scoped>\n",
       "    .dataframe tbody tr th:only-of-type {\n",
       "        vertical-align: middle;\n",
       "    }\n",
       "\n",
       "    .dataframe tbody tr th {\n",
       "        vertical-align: top;\n",
       "    }\n",
       "\n",
       "    .dataframe thead th {\n",
       "        text-align: right;\n",
       "    }\n",
       "</style>\n",
       "<table border=\"1\" class=\"dataframe\">\n",
       "  <thead>\n",
       "    <tr style=\"text-align: right;\">\n",
       "      <th></th>\n",
       "      <th>Category</th>\n",
       "      <th>Resume</th>\n",
       "    </tr>\n",
       "  </thead>\n",
       "  <tbody>\n",
       "    <tr>\n",
       "      <th>0</th>\n",
       "      <td>Java Developer</td>\n",
       "      <td>['ROBERT SMITH', '   Java Developer     ', '  ...</td>\n",
       "    </tr>\n",
       "    <tr>\n",
       "      <th>1</th>\n",
       "      <td>Web Developer</td>\n",
       "      <td>['RAM', '   Web Developer     ', '   java   ',...</td>\n",
       "    </tr>\n",
       "    <tr>\n",
       "      <th>2</th>\n",
       "      <td>Java Developer</td>\n",
       "      <td>['RAJA', '   Java Developer     ', '   java , ...</td>\n",
       "    </tr>\n",
       "    <tr>\n",
       "      <th>3</th>\n",
       "      <td>DevOps Developer</td>\n",
       "      <td>['KAVAN', '   DevOps Developer     ', '   java...</td>\n",
       "    </tr>\n",
       "    <tr>\n",
       "      <th>4</th>\n",
       "      <td>Python Developer</td>\n",
       "      <td>['Prakash', '   Python Developer     ', '   ja...</td>\n",
       "    </tr>\n",
       "  </tbody>\n",
       "</table>\n",
       "</div>"
      ],
      "text/plain": [
       "                 Category                                             Resume\n",
       "0     Java Developer       ['ROBERT SMITH', '   Java Developer     ', '  ...\n",
       "1           Web Developer  ['RAM', '   Web Developer     ', '   java   ',...\n",
       "2     Java Developer       ['RAJA', '   Java Developer     ', '   java , ...\n",
       "3        DevOps Developer  ['KAVAN', '   DevOps Developer     ', '   java...\n",
       "4        Python Developer  ['Prakash', '   Python Developer     ', '   ja..."
      ]
     },
     "execution_count": 121,
     "metadata": {},
     "output_type": "execute_result"
    }
   ],
   "source": [
    "df = pd.read_csv('Emp.csv')\n",
    "df.head()"
   ]
  },
  {
   "cell_type": "markdown",
   "id": "35aaa73e",
   "metadata": {},
   "source": [
    "### Using Regex remove unwanted things"
   ]
  },
  {
   "cell_type": "code",
   "execution_count": 122,
   "id": "9bda2f32",
   "metadata": {},
   "outputs": [],
   "source": [
    "def cleanResume(resumeText):\n",
    "    resumeText = re.sub('http\\S+\\s*', ' ', resumeText)  # remove URLs\n",
    "    resumeText = re.sub('RT|cc', ' ', resumeText)  # remove RT and cc\n",
    "    resumeText = re.sub('#\\S+', '', resumeText)  # remove hashtags\n",
    "    resumeText = re.sub('@\\S+', '  ', resumeText)  # remove mentions\n",
    "    resumeText = re.sub('[%s]' % re.escape(\"\"\"\"#$%&'()*+,-./:;<=>?@[\\]^_`{|}~\"\"\"), ' ', resumeText)  # remove punctuations\n",
    "    resumeText = re.sub(r'[^\\x00-\\x7f]',r' ', resumeText) \n",
    "    resumeText = re.sub('\\s+', ' ', resumeText)  # remove extra whitespace\n",
    "    return resumeText\n",
    "\n"
   ]
  },
  {
   "cell_type": "code",
   "execution_count": 123,
   "id": "52f77e79",
   "metadata": {},
   "outputs": [
    {
     "data": {
      "text/html": [
       "<div>\n",
       "<style scoped>\n",
       "    .dataframe tbody tr th:only-of-type {\n",
       "        vertical-align: middle;\n",
       "    }\n",
       "\n",
       "    .dataframe tbody tr th {\n",
       "        vertical-align: top;\n",
       "    }\n",
       "\n",
       "    .dataframe thead th {\n",
       "        text-align: right;\n",
       "    }\n",
       "</style>\n",
       "<table border=\"1\" class=\"dataframe\">\n",
       "  <thead>\n",
       "    <tr style=\"text-align: right;\">\n",
       "      <th></th>\n",
       "      <th>Category</th>\n",
       "      <th>Resume</th>\n",
       "      <th>cleaned</th>\n",
       "    </tr>\n",
       "  </thead>\n",
       "  <tbody>\n",
       "    <tr>\n",
       "      <th>0</th>\n",
       "      <td>Java Developer</td>\n",
       "      <td>['ROBERT SMITH', '   Java Developer     ', '  ...</td>\n",
       "      <td>ROBE SMITH Java Developer c matlab code pytho...</td>\n",
       "    </tr>\n",
       "    <tr>\n",
       "      <th>1</th>\n",
       "      <td>Web Developer</td>\n",
       "      <td>['RAM', '   Web Developer     ', '   java   ',...</td>\n",
       "      <td>RAM Web Developer java info 9475838374 !</td>\n",
       "    </tr>\n",
       "    <tr>\n",
       "      <th>2</th>\n",
       "      <td>Java Developer</td>\n",
       "      <td>['RAJA', '   Java Developer     ', '   java , ...</td>\n",
       "      <td>RAJA Java Developer java python info 94758435...</td>\n",
       "    </tr>\n",
       "    <tr>\n",
       "      <th>3</th>\n",
       "      <td>DevOps Developer</td>\n",
       "      <td>['KAVAN', '   DevOps Developer     ', '   java...</td>\n",
       "      <td>KAVAN DevOps Developer java python c c info 9...</td>\n",
       "    </tr>\n",
       "    <tr>\n",
       "      <th>4</th>\n",
       "      <td>Python Developer</td>\n",
       "      <td>['Prakash', '   Python Developer     ', '   ja...</td>\n",
       "      <td>Prakash Python Developer java python javascri...</td>\n",
       "    </tr>\n",
       "  </tbody>\n",
       "</table>\n",
       "</div>"
      ],
      "text/plain": [
       "                 Category                                             Resume  \\\n",
       "0     Java Developer       ['ROBERT SMITH', '   Java Developer     ', '  ...   \n",
       "1           Web Developer  ['RAM', '   Web Developer     ', '   java   ',...   \n",
       "2     Java Developer       ['RAJA', '   Java Developer     ', '   java , ...   \n",
       "3        DevOps Developer  ['KAVAN', '   DevOps Developer     ', '   java...   \n",
       "4        Python Developer  ['Prakash', '   Python Developer     ', '   ja...   \n",
       "\n",
       "                                             cleaned  \n",
       "0   ROBE SMITH Java Developer c matlab code pytho...  \n",
       "1          RAM Web Developer java info 9475838374 !   \n",
       "2   RAJA Java Developer java python info 94758435...  \n",
       "3   KAVAN DevOps Developer java python c c info 9...  \n",
       "4   Prakash Python Developer java python javascri...  "
      ]
     },
     "execution_count": 123,
     "metadata": {},
     "output_type": "execute_result"
    }
   ],
   "source": [
    "df['cleaned'] = df['Resume'].apply(lambda x:cleanResume(x))\n",
    "df.head()"
   ]
  },
  {
   "cell_type": "code",
   "execution_count": 124,
   "id": "e129122e",
   "metadata": {},
   "outputs": [
    {
     "data": {
      "text/plain": [
       "'ROBE SMITH Java Developer c matlab code python javascript java info 9475838374 ! RAM Web Developer java info 9475838374 ! RAJA Java Developer java python info 9475843534 ! KAVAN DevOps Developer java python c c info 94745645656 ! Prakash Python Developer java python javascript info 7345456434 !'"
      ]
     },
     "execution_count": 124,
     "metadata": {},
     "output_type": "execute_result"
    }
   ],
   "source": [
    "#getting the entire resume text\n",
    "corpus=\" \"\n",
    "for i in range(0,len(df)):\n",
    "    corpus= corpus+ df[\"cleaned\"][i]\n",
    "corpus = \" \".join(corpus.split())\n",
    "corpus"
   ]
  },
  {
   "cell_type": "code",
   "execution_count": 125,
   "id": "db9f10f2",
   "metadata": {},
   "outputs": [
    {
     "name": "stdout",
     "output_type": "stream",
     "text": [
      "['ROBE SMITH Java Developer c matlab code python javascript java info 9475838374 !', 'RAM Web Developer java info 9475838374 !', 'RAJA Java Developer java python info 9475843534 !', 'KAVAN DevOps Developer java python c c info 94745645656 !', 'Prakash Python Developer java python javascript info 7345456434 !']\n"
     ]
    }
   ],
   "source": [
    "from nltk.tokenize import sent_tokenize                                                             #NLP : Tokenize\n",
    "sentences1 = sent_tokenize(corpus)\n",
    "print(sentences1)"
   ]
  },
  {
   "cell_type": "code",
   "execution_count": 136,
   "id": "38f378fb",
   "metadata": {},
   "outputs": [],
   "source": [
    "Domain = ['Java Developer','Web Developer','Python Developer']\n",
    "Lang = ['python','java','javascript']"
   ]
  },
  {
   "cell_type": "code",
   "execution_count": 137,
   "id": "b7e732d0",
   "metadata": {},
   "outputs": [
    {
     "name": "stdout",
     "output_type": "stream",
     "text": [
      "Domain :  Java Developer\n",
      "ROBE SMITH Java Developer c matlab code python javascript java info 9475838374 ! \t Java Developer \t Score: 0.3917\n",
      "RAM Web Developer java info 9475838374 ! \t Java Developer \t Score: 0.4845\n",
      "RAJA Java Developer java python info 9475843534 ! \t Java Developer \t Score: 0.6262\n",
      "KAVAN DevOps Developer java python c c info 94745645656 ! \t Java Developer \t Score: 0.4427\n",
      "Prakash Python Developer java python javascript info 7345456434 ! \t Java Developer \t Score: 0.3375\n",
      " \n",
      " \n",
      "Domain :  Web Developer\n",
      "ROBE SMITH Java Developer c matlab code python javascript java info 9475838374 ! \t Web Developer \t Score: 0.4313\n",
      "RAM Web Developer java info 9475838374 ! \t Web Developer \t Score: 0.1371\n",
      "RAJA Java Developer java python info 9475843534 ! \t Web Developer \t Score: 0.5072\n",
      "KAVAN DevOps Developer java python c c info 94745645656 ! \t Web Developer \t Score: 0.4808\n",
      "Prakash Python Developer java python javascript info 7345456434 ! \t Web Developer \t Score: 0.5679\n",
      " \n",
      " \n",
      "Domain :  Python Developer\n",
      "ROBE SMITH Java Developer c matlab code python javascript java info 9475838374 ! \t Python Developer \t Score: 0.2200\n",
      "RAM Web Developer java info 9475838374 ! \t Python Developer \t Score: 0.1657\n",
      "RAJA Java Developer java python info 9475843534 ! \t Python Developer \t Score: 0.1916\n",
      "KAVAN DevOps Developer java python c c info 94745645656 ! \t Python Developer \t Score: 0.2480\n",
      "Prakash Python Developer java python javascript info 7345456434 ! \t Python Developer \t Score: 0.1660\n",
      " \n",
      " \n"
     ]
    }
   ],
   "source": [
    "from sentence_transformers import SentenceTransformer, util\n",
    "model = SentenceTransformer('all-MiniLM-L6-v2')\n",
    "embeddings1 = model.encode(sentences1, convert_to_tensor=True)\n",
    "embeddings2 = model.encode(sentences2, convert_to_tensor=True)\n",
    "cosine_scores = util.cos_sim(embeddings1, embeddings2)\n",
    "for k in range(len(Domain)):\n",
    "    print(\"Domain : \",Domain[k])\n",
    "    for i in range(len(sentences1)):\n",
    "        print(\"{} \\t {} \\t Score: {:.4f}\".format(sentences1[i], Domain[k], cosine_scores[i][k]))\n",
    "    print(\" \")\n",
    "    print(\" \")\n",
    "    "
   ]
  },
  {
   "cell_type": "code",
   "execution_count": 146,
   "id": "d3b3c82e",
   "metadata": {},
   "outputs": [
    {
     "name": "stdout",
     "output_type": "stream",
     "text": [
      "Languages :  python\n",
      "ROBE SMITH Java Developer c matlab code python javascript java info 9475838374 ! \t python \t ||Score: 0.3917||\n",
      "RAM Web Developer java info 9475838374 ! \t python \t ||Score: 0.4845||\n",
      "RAJA Java Developer java python info 9475843534 ! \t python \t ||Score: 0.6262||\n",
      "KAVAN DevOps Developer java python c c info 94745645656 ! \t python \t ||Score: 0.4427||\n",
      "Prakash Python Developer java python javascript info 7345456434 ! \t python \t ||Score: 0.3375||\n",
      " \n",
      " \n",
      "Languages :  java\n",
      "ROBE SMITH Java Developer c matlab code python javascript java info 9475838374 ! \t java \t ||Score: 0.4313||\n",
      "RAM Web Developer java info 9475838374 ! \t java \t ||Score: 0.1371||\n",
      "RAJA Java Developer java python info 9475843534 ! \t java \t ||Score: 0.5072||\n",
      "KAVAN DevOps Developer java python c c info 94745645656 ! \t java \t ||Score: 0.4808||\n",
      "Prakash Python Developer java python javascript info 7345456434 ! \t java \t ||Score: 0.5679||\n",
      " \n",
      " \n",
      "Languages :  javascript\n",
      "ROBE SMITH Java Developer c matlab code python javascript java info 9475838374 ! \t javascript \t ||Score: 0.2200||\n",
      "RAM Web Developer java info 9475838374 ! \t javascript \t ||Score: 0.1657||\n",
      "RAJA Java Developer java python info 9475843534 ! \t javascript \t ||Score: 0.1916||\n",
      "KAVAN DevOps Developer java python c c info 94745645656 ! \t javascript \t ||Score: 0.2480||\n",
      "Prakash Python Developer java python javascript info 7345456434 ! \t javascript \t ||Score: 0.1660||\n",
      " \n",
      " \n"
     ]
    }
   ],
   "source": [
    "for k in range(len(Lang)):\n",
    "    print(\"Languages : \",Lang[k])\n",
    "    for i in range(len(sentences1)):\n",
    "        print(\"{} \\t {} \\t ||Score: {:.4f}||\".format(sentences1[i], Lang[k], cosine_scores[i][k]))\n",
    "    \n",
    "    print(\" \")\n",
    "    print(\" \")\n",
    "    "
   ]
  },
  {
   "cell_type": "code",
   "execution_count": null,
   "id": "03c49d8b",
   "metadata": {},
   "outputs": [],
   "source": []
  },
  {
   "cell_type": "code",
   "execution_count": null,
   "id": "81e9ddcd",
   "metadata": {},
   "outputs": [],
   "source": []
  }
 ],
 "metadata": {
  "kernelspec": {
   "display_name": "Python 3",
   "language": "python",
   "name": "python3"
  },
  "language_info": {
   "codemirror_mode": {
    "name": "ipython",
    "version": 3
   },
   "file_extension": ".py",
   "mimetype": "text/x-python",
   "name": "python",
   "nbconvert_exporter": "python",
   "pygments_lexer": "ipython3",
   "version": "3.8.8"
  }
 },
 "nbformat": 4,
 "nbformat_minor": 5
}
