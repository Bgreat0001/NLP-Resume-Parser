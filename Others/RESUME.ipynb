{
 "cells": [
  {
   "cell_type": "code",
   "execution_count": null,
   "id": "20a58858",
   "metadata": {},
   "outputs": [],
   "source": []
  },
  {
   "cell_type": "code",
   "execution_count": 7,
   "id": "14d364db",
   "metadata": {},
   "outputs": [],
   "source": [
    "import numpy as np\n",
    "import pandas as pd\n",
    "import matplotlib.pyplot as plt\n",
    "import seaborn as sns\n",
    "sns.set_style('darkgrid')\n",
    "import warnings\n",
    "warnings.filterwarnings('ignore')\n",
    "import re\n",
    "from sklearn.preprocessing import LabelEncoder\n",
    "from sklearn.model_selection import train_test_split\n",
    "from sklearn.feature_extraction.text import TfidfVectorizer\n",
    "from scipy.sparse import hstack\n",
    "from sklearn.multiclass import OneVsRestClassifier\n",
    "from sklearn.neighbors import KNeighborsClassifier\n",
    "from sklearn import metrics"
   ]
  },
  {
   "cell_type": "code",
   "execution_count": 8,
   "id": "3d37c27e",
   "metadata": {},
   "outputs": [
    {
     "data": {
      "text/plain": [
       "<_io.BufferedReader name='android-developer-1559034496.pdf'>"
      ]
     },
     "execution_count": 8,
     "metadata": {},
     "output_type": "execute_result"
    }
   ],
   "source": [
    "import PyPDF2 as pdf\n",
    "file = open('android-developer-1559034496.pdf', 'rb')\n",
    "file"
   ]
  },
  {
   "cell_type": "code",
   "execution_count": 9,
   "id": "919a4c0a",
   "metadata": {},
   "outputs": [
    {
     "data": {
      "text/plain": [
       "<PyPDF2._reader.PdfFileReader at 0x1a514f8d9d0>"
      ]
     },
     "execution_count": 9,
     "metadata": {},
     "output_type": "execute_result"
    }
   ],
   "source": [
    "pdf_reader = pdf.PdfFileReader(file)\n",
    "pdf_reader"
   ]
  },
  {
   "cell_type": "code",
   "execution_count": 10,
   "id": "eada63f9",
   "metadata": {},
   "outputs": [
    {
     "data": {
      "text/plain": [
       "'Android Developer\\nROBERT SMITHPhone: (123) 456 78 99 \\nEmail: info@qwikresume.com\\nWebsite: www.qwikresume.com\\nLinkedIn:\\nlinkedin.com/qwikresume\\nAddress: 1737 Marshville Road,\\nAlabama.\\nObjective\\nOver 6 years of IT industry experience with 4+ years of experience as Mobile application \\ndeveloper in the field of Android. Experience in developing front end applications for Android \\nphones. Experience developing mobile applications on Android platform, building Custom UI using \\nViews, ViewGroups, Layouts, Widgets and graphics that scale based on the screen size using 9-\\npatch images, localization, testing and publishing the applications to the Android Market.\\nSkills\\nPython, Java, C, Javascript, Matlab, R.\\nWork Experience\\nAndroid Developer\\nABC Corporation \\xa0\\xad\\xa0January 2011 – March 2012  \\n\\uf09fEnvironment Eclipse IDE, Android Studio, GenyMotion, Java, Android SDK, Android \\nDevelopment T ools (ADT), JSON, XML,\\n\\uf09fInvolved in the full life cycle of the project including analysis design, development, debugging,\\ntesting, and deployment.\\n\\uf09fDeveloped the app'"
      ]
     },
     "execution_count": 10,
     "metadata": {},
     "output_type": "execute_result"
    }
   ],
   "source": [
    "pdf_reader.getNumPages()\n",
    "page1 = pdf_reader.getPage(0)\n",
    "resumeText = page1.extractText()[:1050]\n",
    "resumeText                                                                                       ##Extracted text = \"resumeText\""
   ]
  },
  {
   "cell_type": "markdown",
   "id": "7d0fa153",
   "metadata": {},
   "source": [
    "### Regular Expression"
   ]
  },
  {
   "cell_type": "code",
   "execution_count": 11,
   "id": "481dec39",
   "metadata": {},
   "outputs": [],
   "source": [
    "def cleanResume(resumeText):\n",
    "    resumeText = re.sub('http\\S+\\s*', ' ', resumeText)  # remove URLs\n",
    "    resumeText = re.sub('RT|cc', ' ', resumeText)  # remove RT and cc\n",
    "    resumeText = re.sub('#\\S+', '', resumeText)  # remove hashtags\n",
    "    resumeText = re.sub('@\\S+', '  ', resumeText)  # remove mentions\n",
    "    resumeText = re.sub('[%s]' % re.escape(\"\"\"!\"#$%&'()*+,-./:;<=>?@[\\]^_`{|}~\"\"\"), ' ', resumeText)  # remove punctuations\n",
    "    resumeText = re.sub(r'[^\\x00-\\x7f]',r' ', resumeText) \n",
    "    resumeText = re.sub('\\s+', ' ', resumeText)  # remove extra whitespace\n",
    "    return resumeText"
   ]
  },
  {
   "cell_type": "code",
   "execution_count": null,
   "id": "599ff680",
   "metadata": {},
   "outputs": [],
   "source": []
  },
  {
   "cell_type": "markdown",
   "id": "414c5d8c",
   "metadata": {},
   "source": [
    "# 1. Tokenize"
   ]
  },
  {
   "cell_type": "code",
   "execution_count": 13,
   "id": "4a018082",
   "metadata": {},
   "outputs": [
    {
     "name": "stdout",
     "output_type": "stream",
     "text": [
      "Android Developer ROBE SMITHPhone 123 456 78 99 Email info Website www qwikresume com LinkedIn linkedin com qwikresume Address 1737 Marshville Road Alabama Objective Over 6 years of IT industry experience with 4 years of experience as Mobile application developer in the field of Android Experience in developing front end applications for Android phones Experience developing mobile applications on Android platform building Custom UI using Views ViewGroups Layouts Widgets and graphics that scale based on the screen size using 9 patch images localization testing and publishing the applications to the Android Market Skills Python Java C Javascript Matlab R Work Experience Android Developer ABC Corporation January 2011 March 2012 Environment Eclipse IDE Android Studio GenyMotion Java Android SDK Android Development T ools ADT JSON XML Involved in the full life cycle of the project including analysis design development debugging testing and deployment Developed the app\n"
     ]
    }
   ],
   "source": [
    "removed = cleanResume(resumeText)\n",
    "print(removed)"
   ]
  },
  {
   "cell_type": "code",
   "execution_count": 15,
   "id": "39c5e2de",
   "metadata": {},
   "outputs": [
    {
     "name": "stdout",
     "output_type": "stream",
     "text": [
      "['Android Developer ROBE SMITHPhone 123 456 78 99 Email info Website www qwikresume com LinkedIn linkedin com qwikresume Address 1737 Marshville Road Alabama Objective Over 6 years of IT industry experience with 4 years of experience as Mobile application developer in the field of Android Experience in developing front end applications for Android phones Experience developing mobile applications on Android platform building Custom UI using Views ViewGroups Layouts Widgets and graphics that scale based on the screen size using 9 patch images localization testing and publishing the applications to the Android Market Skills Python Java C Javascript Matlab R Work Experience Android Developer ABC Corporation January 2011 March 2012 Environment Eclipse IDE Android Studio GenyMotion Java Android SDK Android Development T ools ADT JSON XML Involved in the full life cycle of the project including analysis design development debugging testing and deployment Developed the app']\n"
     ]
    }
   ],
   "source": [
    "import nltk\n",
    "import re\n",
    "from nltk.corpus import stopwords\n",
    "sentences = nltk.sent_tokenize(removed)\n",
    "print(sentences)"
   ]
  },
  {
   "cell_type": "code",
   "execution_count": null,
   "id": "a73967a0",
   "metadata": {},
   "outputs": [],
   "source": []
  },
  {
   "cell_type": "code",
   "execution_count": null,
   "id": "058239a5",
   "metadata": {},
   "outputs": [],
   "source": []
  },
  {
   "cell_type": "code",
   "execution_count": 16,
   "id": "86125f08",
   "metadata": {},
   "outputs": [
    {
     "name": "stdout",
     "output_type": "stream",
     "text": [
      "['Android Developer ROBE SMITHPhone 123 456 78 99 Email info Website www qwikresume com LinkedIn linkedin com qwikresume Address 1737 Marshville Road Alabama Objective Over 6 years of IT industry experience with 4 years of experience as Mobile application developer in the field of Android Experience in developing front end applications for Android phones Experience developing mobile applications on Android platform building Custom UI using Views ViewGroups Layouts Widgets and graphics that scale based on the screen size using 9 patch images localization testing and publishing the applications to the Android Market Skills Python Java C Javascript Matlab R Work Experience Android Developer ABC Corporation January 2011 March 2012 Environment Eclipse IDE Android Studio GenyMotion Java Android SDK Android Development T ools ADT JSON XML Involved in the full life cycle of the project including analysis design development debugging testing and deployment Developed the app']\n"
     ]
    }
   ],
   "source": [
    "from nltk.corpus import stopwords\n",
    "stop_words=set(stopwords.words(\"english\"))\n",
    "\n",
    "words_without_stopwords = [word for word in sentences if word not in stop_words]\n",
    "print(words_without_stopwords)"
   ]
  },
  {
   "cell_type": "code",
   "execution_count": null,
   "id": "bdc55054",
   "metadata": {},
   "outputs": [],
   "source": []
  },
  {
   "cell_type": "code",
   "execution_count": 17,
   "id": "7f134563",
   "metadata": {},
   "outputs": [
    {
     "name": "stdout",
     "output_type": "stream",
     "text": [
      "[['Android', 'Developer', 'ROBE', 'SMITHPhone', '123', '456', '78', '99', 'Email', 'info', 'Website', 'www', 'qwikresume', 'com', 'LinkedIn', 'linkedin', 'com', 'qwikresume', 'Address', '1737', 'Marshville', 'Road', 'Alabama', 'Objective', 'Over', '6', 'years', 'of', 'IT', 'industry', 'experience', 'with', '4', 'years', 'of', 'experience', 'as', 'Mobile', 'application', 'developer', 'in', 'the', 'field', 'of', 'Android', 'Experience', 'in', 'developing', 'front', 'end', 'applications', 'for', 'Android', 'phones', 'Experience', 'developing', 'mobile', 'applications', 'on', 'Android', 'platform', 'building', 'Custom', 'UI', 'using', 'Views', 'ViewGroups', 'Layouts', 'Widgets', 'and', 'graphics', 'that', 'scale', 'based', 'on', 'the', 'screen', 'size', 'using', '9', 'patch', 'images', 'localization', 'testing', 'and', 'publishing', 'the', 'applications', 'to', 'the', 'Android', 'Market', 'Skills', 'Python', 'Java', 'C', 'Javascript', 'Matlab', 'R', 'Work', 'Experience', 'Android', 'Developer', 'ABC', 'Corporation', 'January', '2011', 'March', '2012', 'Environment', 'Eclipse', 'IDE', 'Android', 'Studio', 'GenyMotion', 'Java', 'Android', 'SDK', 'Android', 'Development', 'T', 'ools', 'ADT', 'JSON', 'XML', 'Involved', 'in', 'the', 'full', 'life', 'cycle', 'of', 'the', 'project', 'including', 'analysis', 'design', 'development', 'debugging', 'testing', 'and', 'deployment', 'Developed', 'the', 'app']]\n"
     ]
    }
   ],
   "source": [
    "all_words = [nltk.word_tokenize(sent) for sent in sentences]\n",
    "print(all_words)\n"
   ]
  },
  {
   "cell_type": "code",
   "execution_count": null,
   "id": "b5b16ca1",
   "metadata": {},
   "outputs": [],
   "source": []
  },
  {
   "cell_type": "code",
   "execution_count": 2,
   "id": "35558164",
   "metadata": {},
   "outputs": [
    {
     "ename": "IndexError",
     "evalue": "list index out of range",
     "output_type": "error",
     "traceback": [
      "\u001b[1;31m---------------------------------------------------------------------------\u001b[0m",
      "\u001b[1;31mIndexError\u001b[0m                                Traceback (most recent call last)",
      "\u001b[1;32m<ipython-input-2-d52d92716c32>\u001b[0m in \u001b[0;36m<module>\u001b[1;34m\u001b[0m\n\u001b[0;32m      2\u001b[0m \u001b[1;32mimport\u001b[0m \u001b[0mtabula\u001b[0m\u001b[1;33m\u001b[0m\u001b[1;33m\u001b[0m\u001b[0m\n\u001b[0;32m      3\u001b[0m \u001b[1;31m# Read a PDF File\u001b[0m\u001b[1;33m\u001b[0m\u001b[1;33m\u001b[0m\u001b[1;33m\u001b[0m\u001b[0m\n\u001b[1;32m----> 4\u001b[1;33m \u001b[0mdf\u001b[0m \u001b[1;33m=\u001b[0m \u001b[0mtabula\u001b[0m\u001b[1;33m.\u001b[0m\u001b[0mread_pdf\u001b[0m\u001b[1;33m(\u001b[0m\u001b[1;34m\"c.pdf\"\u001b[0m\u001b[1;33m,\u001b[0m \u001b[0mpages\u001b[0m\u001b[1;33m=\u001b[0m\u001b[1;34m'all'\u001b[0m\u001b[1;33m)\u001b[0m\u001b[1;33m[\u001b[0m\u001b[1;36m0\u001b[0m\u001b[1;33m]\u001b[0m\u001b[1;33m\u001b[0m\u001b[1;33m\u001b[0m\u001b[0m\n\u001b[0m\u001b[0;32m      5\u001b[0m \u001b[1;31m# convert PDF into CSV\u001b[0m\u001b[1;33m\u001b[0m\u001b[1;33m\u001b[0m\u001b[1;33m\u001b[0m\u001b[0m\n\u001b[0;32m      6\u001b[0m \u001b[0mtabula\u001b[0m\u001b[1;33m.\u001b[0m\u001b[0mconvert_into\u001b[0m\u001b[1;33m(\u001b[0m\u001b[1;34m\"c.pdf\"\u001b[0m\u001b[1;33m,\u001b[0m \u001b[1;34m\"iplmatch.csv\"\u001b[0m\u001b[1;33m,\u001b[0m \u001b[0moutput_format\u001b[0m\u001b[1;33m=\u001b[0m\u001b[1;34m\"csv\"\u001b[0m\u001b[1;33m,\u001b[0m \u001b[0mpages\u001b[0m\u001b[1;33m=\u001b[0m\u001b[1;34m'all'\u001b[0m\u001b[1;33m)\u001b[0m\u001b[1;33m\u001b[0m\u001b[1;33m\u001b[0m\u001b[0m\n",
      "\u001b[1;31mIndexError\u001b[0m: list index out of range"
     ]
    }
   ],
   "source": [
    "# Import the required Module\n",
    "import tabula\n",
    "# Read a PDF File\n",
    "df = tabula.read_pdf(\"c.pdf\", pages='all')[0]\n",
    "# convert PDF into CSV\n",
    "tabula.convert_into(\"c.pdf\", \"iplmatch.csv\", output_format=\"csv\", pages='all')\n",
    "print(df)"
   ]
  },
  {
   "cell_type": "code",
   "execution_count": 19,
   "id": "5d71a481",
   "metadata": {},
   "outputs": [
    {
     "name": "stdout",
     "output_type": "stream",
     "text": [
      "LinkedIn 86 94 PERSON\n",
      "Address 1737 Marshville Road Alabama Objective 119 165 WORK_OF_ART\n",
      "6 years 171 178 DATE\n",
      "4 years 210 217 DATE\n",
      "Mobile 235 241 GPE\n",
      "Android 340 347 ORG\n",
      "Android 400 407 ORG\n",
      "Custom UI 426 435 ORG\n",
      "Views 442 447 ORG\n",
      "ViewGroups Layouts Widgets 448 474 PRODUCT\n",
      "9 530 531 CARDINAL\n",
      "the Android Market Skills Python 601 633 ORG\n",
      "January 2011 March 2012 711 734 DATE\n",
      "ADT 829 832 ORG\n",
      "Developed 960 969 PERSON\n"
     ]
    }
   ],
   "source": [
    "\n",
    "import spacy\n",
    "nlp = spacy.load(\"en_core_web_sm\")\n",
    "\n",
    "names_string = removed\n",
    "doc = nlp(names_string)\n",
    "\n",
    "for ent in doc.ents:\n",
    "    print(ent.text, ent.start_char, ent.end_char, ent.label_)"
   ]
  },
  {
   "cell_type": "code",
   "execution_count": 23,
   "id": "8caa07de",
   "metadata": {},
   "outputs": [
    {
     "name": "stdout",
     "output_type": "stream",
     "text": [
      "LinkedIn 86 94 PERSON\n",
      "Address 1737 Marshville Road Alabama Objective 119 165 WORK_OF_ART\n",
      "6 years 171 178 DATE\n",
      "4 years 210 217 DATE\n",
      "Mobile 235 241 GPE\n",
      "Android 340 347 ORG\n",
      "Android 400 407 ORG\n",
      "Custom UI 426 435 ORG\n",
      "Views 442 447 ORG\n",
      "ViewGroups Layouts Widgets 448 474 PRODUCT\n",
      "9 530 531 CARDINAL\n",
      "the Android Market Skills Python 601 633 ORG\n",
      "January 2011 March 2012 711 734 DATE\n",
      "ADT 829 832 ORG\n",
      "Developed 960 969 PERSON\n"
     ]
    }
   ],
   "source": [
    "import spacy\n",
    "nlp = spacy.load(\"en_core_web_sm\")\n",
    "names_stringg = names_string\n",
    "doc = nlp(names_stringg)\n",
    "\n",
    "for ent in doc.ents:\n",
    "    print(ent.text, ent.start_char, ent.end_char, ent.label_)"
   ]
  },
  {
   "cell_type": "code",
   "execution_count": null,
   "id": "5931e828",
   "metadata": {},
   "outputs": [],
   "source": []
  }
 ],
 "metadata": {
  "kernelspec": {
   "display_name": "Python 3",
   "language": "python",
   "name": "python3"
  },
  "language_info": {
   "codemirror_mode": {
    "name": "ipython",
    "version": 3
   },
   "file_extension": ".py",
   "mimetype": "text/x-python",
   "name": "python",
   "nbconvert_exporter": "python",
   "pygments_lexer": "ipython3",
   "version": "3.8.8"
  }
 },
 "nbformat": 4,
 "nbformat_minor": 5
}
